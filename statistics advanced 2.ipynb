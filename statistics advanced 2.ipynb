{
 "cells": [
  {
   "cell_type": "code",
   "execution_count": null,
   "id": "bc90014d-f24e-42d3-8e4f-4153acbb2f30",
   "metadata": {},
   "outputs": [],
   "source": [
    "Q1: What are the Probability Mass Function (PMF) and Probability Density Function (PDF)? Explain with\n",
    "an example."
   ]
  },
  {
   "cell_type": "code",
   "execution_count": null,
   "id": "a142a9af-c4dd-4065-8931-15b023af4653",
   "metadata": {},
   "outputs": [],
   "source": [
    "Ans: Probability Mass Function (PMF) and probability density function (PDF) are two ways to describe the probability distribution\n",
    "of a random variable.\n",
    "\n",
    "The PMF is used for discreate random variables, which can take on a finite or countably infinite number of values. The PMF gives the\n",
    "probability of each possible value of the random variable.\n",
    "\n",
    "The PDF is used for continuous random variables, which can take on an uncountably infinite number of values within a certain range."
   ]
  },
  {
   "cell_type": "code",
   "execution_count": null,
   "id": "366fc2df-8863-45c6-8d6a-1cb4322675d4",
   "metadata": {},
   "outputs": [],
   "source": [
    "Q2: What is Cumulative Density Function (CDF)? Explain with an example. Why CDF is used?"
   ]
  },
  {
   "cell_type": "code",
   "execution_count": null,
   "id": "c6bba5b0-902f-46a2-a52a-f466d1dae291",
   "metadata": {},
   "outputs": [],
   "source": [
    "Ans: The cummulative density function (CDF) is a function that gives the probability that a random variables is less than or equal to a certain value.\n",
    "simply, it gives the cumulative distribution of the random variable.\n",
    "\n",
    "Mathematically, the CDF of a random variable X is defined as:\n",
    "\n",
    "F(x) = P(X ≤ x)\n",
    "\n",
    "The CDF is useful because it provides a comprehensive summary of the probability distribution of a random variable.\n"
   ]
  },
  {
   "cell_type": "code",
   "execution_count": 3,
   "id": "44b18f2a-f85e-4105-9404-ed5b85a244ec",
   "metadata": {},
   "outputs": [
    {
     "data": {
      "image/png": "[encoded data removed]",
      "text/plain": [
       "<Figure size 640x480 with 1 Axes>"
      ]
     },
     "metadata": {},
     "output_type": "display_data"
    }
   ],
   "source": [
    "# examples of CDF\n",
    "import numpy as np\n",
    "import matplotlib.pyplot as plt\n",
    "from scipy.special import erf\n",
    "mu = 0\n",
    "sigma = 1\n",
    "\n",
    "x = np.linspace(-5, 5, 1000)\n",
    "cdf = 0.5 * (1 + erf((x - mu) / (sigma * np.sqrt(2))))\n",
    "\n",
    "plt.plot(x, cdf)\n",
    "plt.xlabel('X')\n",
    "plt.ylabel('CDF')\n",
    "plt.title('CDF of a standard normal distribution')\n",
    "plt.show()\n"
   ]
  },
  {
   "cell_type": "code",
   "execution_count": null,
   "id": "d34a1fbf-d9b3-47dc-874b-59ceee84de48",
   "metadata": {},
   "outputs": [],
   "source": [
    "Q3: What are some examples of situations where the normal distribution might be used as a model?\n",
    "Explain how the parameters of the normal distribution relate to the shape of the distribution."
   ]
  },
  {
   "cell_type": "code",
   "execution_count": null,
   "id": "c9fc53fd-8f64-42d6-8f54-2f2be657e50d",
   "metadata": {},
   "outputs": [],
   "source": [
    "Ans: Some examples of situation where the normal distribution might be used as a model are :\n",
    "    1. Heights of people in a population.\n",
    "    2. Weights of manufactured products.\n",
    "    3. Errors in measurement or observation.\n",
    "    \n",
    "    \n",
    "    The normal distribution is characterized by two parameters, the mean and the s.d. \n",
    "    The mean deterimines the location of the peak of hte distribution. if the mean is higher, the peak of the distribution will shift\n",
    "    to the right, and if the mean is lower , the peak will shift to the left.\n",
    "    \n",
    "    similarly, the standard deviation determines the shape of the distribution. if the standard deviation is larger, the distribution will \n",
    "    be more spread out and flatter, with more values farther away from the mean. if the standard deviation is smaller, the distribution will \n",
    "    be noarrower and taller, with most values clustered arounf the mean."
   ]
  },
  {
   "cell_type": "code",
   "execution_count": null,
   "id": "066b535a-fd22-494e-aa68-3d7e8f1b236c",
   "metadata": {},
   "outputs": [],
   "source": [
    "Q4: Explain the importance of Normal Distribution. Give a few real-life examples of Normal\n",
    "Distribution."
   ]
  },
  {
   "cell_type": "code",
   "execution_count": null,
   "id": "957543e6-565e-46d7-bd9b-e8a724ea24ef",
   "metadata": {},
   "outputs": [],
   "source": [
    "Ans:- The importance of normal distribution can be seen in various fields such as science, engineering, economics and finance, where\n",
    "it is used to model and analyze data.  some of the examples of normal distribution are:-\n",
    "1. The heights of people in a population genereally follow a normal distribution, with the mean around the middle and a standard \n",
    "deviation that determines the spread.\n",
    "2. stock market returns indicating the average return and the standard deviation indiacationg the range of returns.this is an importat\n",
    "concept in finance, as it allows investors to model and analyze the risk and return of different inverstments."
   ]
  },
  {
   "cell_type": "code",
   "execution_count": null,
   "id": "17d36e50-c036-49e6-a1cd-1162005bb475",
   "metadata": {},
   "outputs": [],
   "source": [
    "Q5: What is Bernaulli Distribution? Give an Example. What is the difference between Bernoulli\n",
    "Distribution and Binomial Distribution?"
   ]
  },
  {
   "cell_type": "code",
   "execution_count": null,
   "id": "2f705a6d-04c0-4c9c-8461-5e79243d6075",
   "metadata": {},
   "outputs": [],
   "source": [
    "Ans: The Bernoulli distribution is a discreate probability distribution that models the outcomes of a single binary random \n",
    "experiment. In this distibution, there are only two possible outcomes, often labeled as \"success\" and \"failure\", and the probability\n",
    "of success is represented by the parameter p.\n",
    "\n",
    "The pmf of the bernoulli distribution is \n",
    "P(X=x) = p^x (1-p)^(1-x)\n",
    "\n",
    "The main difference between Bernoulli distribution and Binomial Distribution is that the Bernoulli distribution models the outcomes\n",
    "of a single binary experiment, while the binomial distribution models the outcomes of multiple independent Bernoulli trials with the \n",
    "same probability of success."
   ]
  },
  {
   "cell_type": "code",
   "execution_count": null,
   "id": "52a986da-52c5-4d69-a24f-be020401f4e3",
   "metadata": {},
   "outputs": [],
   "source": [
    "Q6. Consider a dataset with a mean of 50 and a standard deviation of 10. If we assume that the dataset\n",
    "is normally distributed, what is the probability that a randomly selected observation will be greater\n",
    "than 60? Use the appropriate formula and show your calculations."
   ]
  },
  {
   "cell_type": "code",
   "execution_count": 1,
   "id": "9e8d4491-8b70-45ce-a622-9d2864bec697",
   "metadata": {},
   "outputs": [],
   "source": [
    "import scipy.stats as stats\n",
    "mean = 50\n",
    "std_dev = 10\n",
    "x = 60\n",
    "\n",
    "# calculate the z-score\n",
    "z = (x-mean) / std_dev\n",
    "\n",
    "#  finding probability using cdf\n",
    "prob = 1- stats.norm.cdf(z)\n",
    "\n"
   ]
  },
  {
   "cell_type": "code",
   "execution_count": 2,
   "id": "8f5abc26-976a-4c51-b428-973029007f79",
   "metadata": {},
   "outputs": [
    {
     "data": {
      "text/plain": [
       "0.15865525393145707"
      ]
     },
     "execution_count": 2,
     "metadata": {},
     "output_type": "execute_result"
    }
   ],
   "source": [
    "prob"
   ]
  },
  {
   "cell_type": "code",
   "execution_count": null,
   "id": "e3f88529-8545-4b90-9b7e-b421a18a14bb",
   "metadata": {},
   "outputs": [],
   "source": [
    "Q7: Explain uniform Distribution with an example."
   ]
  },
  {
   "cell_type": "code",
   "execution_count": null,
   "id": "94a0aabd-182f-40c7-a066-ffd678d4f3d6",
   "metadata": {},
   "outputs": [],
   "source": [
    "Ans: Uniform distribution is a probability distribution where the probability of any particular value occurring within a given\n",
    "range is the same as the probabiloity of any other value occurring with in the same range.\n",
    "\n",
    "\n",
    "An example of a uniform distribution is rolling a fair six-sided die. ach outcome (the numbers 1 through 6) has an equal \n",
    "chance of occurring, and the probability of rolling any specific number is 1/6 or approximately 0.1667."
   ]
  },
  {
   "cell_type": "code",
   "execution_count": null,
   "id": "7ec48417-af71-440a-b1fd-3410c83d69de",
   "metadata": {},
   "outputs": [],
   "source": [
    "Q8: What is the z score? State the importance of the z score."
   ]
  },
  {
   "cell_type": "code",
   "execution_count": null,
   "id": "8bda5f68-4092-453a-9129-b32d7b7f9ba4",
   "metadata": {},
   "outputs": [],
   "source": [
    "Ans : The z-score also knowns as standard score, is a measure of how many standard deviations a data point is away from the mean\n",
    "of a distribution.\n",
    "formula:\n",
    "    z = (x - μ) / σ\n",
    "\n",
    "where:\n",
    "\n",
    "    x is the data point\n",
    "    μ is the mean of the distribution\n",
    "    σ is the standard deviation of the distribution\n",
    "    \n",
    "It is important because it allows us to compare values from different distributions that may have different scales and units. By \n",
    "standardizing the values in this way, we can determine the relative position of a data with in its distribution."
   ]
  },
  {
   "cell_type": "code",
   "execution_count": null,
   "id": "288d99ac-75e4-45e8-b81e-ff7c5cebe088",
   "metadata": {},
   "outputs": [],
   "source": [
    "Q9: What is Central Limit Theorem? State the significance of the Central Limit Theorem.\n",
    "Q10: State the assumptions of the Central Limit Theorem."
   ]
  },
  {
   "cell_type": "code",
   "execution_count": null,
   "id": "d3cfa529-9f7a-499c-9719-aa45cb294146",
   "metadata": {},
   "outputs": [],
   "source": [
    "Ans: , the CLT states that the sum or average of a large number of independent and identically distributed random variables \n",
    "will tend to follow a normal distribution, even if the individual variables do not. This theorem is important because it \n",
    "provides a theoretical basis for many statistical methods, such as hypothesis testing and confidence interval estimation.\n",
    "\n",
    "Assumptions:\n",
    "    Independence: The sample observations must be independent of each other.\n",
    "\n",
    "    Identically distributed: The sample observations must be drawn from the same population and have the same underlying\n",
    "    distribution.\n",
    "\n",
    "    Finite variance: The population from which the samples are drawn must have a finite variance.\n",
    "\n",
    "    Sample size: The sample size should be large enough. A general rule of thumb is that the sample size should be at least\n",
    "    30 for the Central Limit Theorem to hold true, although this can depend on the underlying distribution of the population.\n",
    "\n",
    "If these assumptions hold true, then the sample means will converge to a normal distribution as the sample size increases, \n",
    "as stated in the Central Limit Theorem. However, if these assumptions do not hold true, then the theorem may not be applicable, and other methods may need to be used for statistical inference."
   ]
  }
 ],
 "metadata": {
  "kernelspec": {
   "display_name": "Python 3 (ipykernel)",
   "language": "python",
   "name": "python3"
  },
  "language_info": {
   "codemirror_mode": {
    "name": "ipython",
    "version": 3
   },
   "file_extension": ".py",
   "mimetype": "text/x-python",
   "name": "python",
   "nbconvert_exporter": "python",
   "pygments_lexer": "ipython3",
   "version": "3.10.6"
  }
 },
 "nbformat": 4,
 "nbformat_minor": 5
}
