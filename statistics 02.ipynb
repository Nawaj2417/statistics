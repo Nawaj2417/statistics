{
 "cells": [
  {
   "cell_type": "code",
   "execution_count": null,
   "id": "058e5f3c",
   "metadata": {},
   "outputs": [],
   "source": [
    "Q1. What are the three measures of central tendency? "
   ]
  },
  {
   "cell_type": "code",
   "execution_count": null,
   "id": "ec7922b5",
   "metadata": {},
   "outputs": [],
   "source": [
    "Ans: The three measures of central tendency are mean, median and mode.\n",
    "    "
   ]
  },
  {
   "cell_type": "code",
   "execution_count": null,
   "id": "27a0ab63",
   "metadata": {},
   "outputs": [],
   "source": [
    "Q2. What is the difference between the mean, median, and mode? How are they used to measure the  central tendency of a dataset? "
   ]
  },
  {
   "cell_type": "code",
   "execution_count": null,
   "id": "11f1dcd8",
   "metadata": {},
   "outputs": [],
   "source": [
    "Ans:- The difference between the mean , median and mode is:-\n",
    "        1. mean :- It is the arithmetic average of a set of numbers. The mean is affe4cted by outliers or extreme\n",
    "            values in the datasets.\n",
    "            It is often used to represent the center of a normal distribution, where the majority of the values are dusterd around the mean.\n",
    "            \n",
    "            median: It is the middle value in a dataset, which is calculated by ordering the values from thje smallest to largest and finding the value\n",
    "                that falls in the middle.It is used when the data is skewed or has outliers.\n",
    "                \n",
    "            mode: It is the most frequently occuring value in a dataset. It is use to multiple measures of central\n",
    "                tendency to provide a more comprehensive understanding of the data."
   ]
  },
  {
   "cell_type": "code",
   "execution_count": null,
   "id": "a2791121",
   "metadata": {},
   "outputs": [],
   "source": [
    "Q3. Measure the three measures of central tendency for the given height data:\n",
    "[178,177,176,177,178.2,178,175,179,180,175,178.9,176.2,177,172.5,178,176.5]"
   ]
  },
  {
   "cell_type": "code",
   "execution_count": 3,
   "id": "5d9bd5ca",
   "metadata": {},
   "outputs": [],
   "source": [
    "import statistics as stats\n",
    "import numpy as np\n",
    "height_data = [178,177,176,177,178.2,178,175,179,180,175,178.9,176.2,177,172.5,178,176.5]\n",
    "mean = np.mean(height_data)\n",
    "median = np. median(height_data)\n",
    "mode = stats.mode(height_data)"
   ]
  },
  {
   "cell_type": "code",
   "execution_count": 2,
   "id": "3ba403cc",
   "metadata": {},
   "outputs": [
    {
     "data": {
      "text/plain": [
       "177.01875"
      ]
     },
     "execution_count": 2,
     "metadata": {},
     "output_type": "execute_result"
    }
   ],
   "source": [
    "mean"
   ]
  },
  {
   "cell_type": "code",
   "execution_count": 4,
   "id": "425ed5f6",
   "metadata": {},
   "outputs": [
    {
     "data": {
      "text/plain": [
       "177.0"
      ]
     },
     "execution_count": 4,
     "metadata": {},
     "output_type": "execute_result"
    }
   ],
   "source": [
    "median"
   ]
  },
  {
   "cell_type": "code",
   "execution_count": 5,
   "id": "dcc43b2b",
   "metadata": {},
   "outputs": [
    {
     "data": {
      "text/plain": [
       "178"
      ]
     },
     "execution_count": 5,
     "metadata": {},
     "output_type": "execute_result"
    }
   ],
   "source": [
    "mode"
   ]
  },
  {
   "cell_type": "code",
   "execution_count": null,
   "id": "2fea9aeb",
   "metadata": {},
   "outputs": [],
   "source": [
    "Q4. Find the standard deviation for the given data:\n",
    "[178,177,176,177,178.2,178,175,179,180,175,178.9,176.2,177,172.5,178,176.5]"
   ]
  },
  {
   "cell_type": "code",
   "execution_count": 6,
   "id": "48b9ec37",
   "metadata": {},
   "outputs": [],
   "source": [
    "import numpy as np\n",
    "data = [178,177,176,177,178.2,178,175,179,180,175,178.9,176.2,177,172.5,178,176.5]\n",
    "std_dev = np.std(data)"
   ]
  },
  {
   "cell_type": "code",
   "execution_count": 7,
   "id": "6e3ea029",
   "metadata": {},
   "outputs": [
    {
     "data": {
      "text/plain": [
       "1.7885814036548633"
      ]
     },
     "execution_count": 7,
     "metadata": {},
     "output_type": "execute_result"
    }
   ],
   "source": [
    "std_dev"
   ]
  },
  {
   "cell_type": "code",
   "execution_count": null,
   "id": "69ef02f7",
   "metadata": {},
   "outputs": [],
   "source": [
    "Q5. How are measures of dispersion such as range, variance, and standard deviation used to describe\n",
    "the spread of a dataset? Provide an example."
   ]
  },
  {
   "cell_type": "code",
   "execution_count": null,
   "id": "0a9586ca",
   "metadata": {},
   "outputs": [],
   "source": [
    "Ans: Measures of dispersion such as range, variance, and standard deviation are used to provide a quantitative\n",
    "    description of the spread of a dataset. They indicate how much the data values deviate from the central tendency\n",
    "    and provide valuable information about the characteristics of the dataset.\n",
    "    \n",
    "    The range of a dataset is the difference between the maximum and minimum values in the dataset. It provides a simple\n",
    "    measure of how spread out the data is.\n",
    "    \n",
    "    similarly, The variance of dataset is a measure of how spread out the data is relative to the mean of the \n",
    "    dataset. A higher variance indicates that the data values are more spread out from the mean.\n",
    "    \n",
    "    lastly, The standard deviation is the square root of variance and provides a measure of the spread of the \n",
    "    dataset in the same units as the data itself.\n",
    "    \n",
    "    some of the examples are mentioned below."
   ]
  },
  {
   "cell_type": "code",
   "execution_count": 8,
   "id": "d9521e47",
   "metadata": {},
   "outputs": [],
   "source": [
    "import numpy as np\n",
    "data = [10, 20, 30, 40, 50]\n",
    "range = np.max(data) - np.min(data)\n",
    "variance = np.var(data)\n",
    "std_dev = np.std(data)"
   ]
  },
  {
   "cell_type": "code",
   "execution_count": 9,
   "id": "f0638d77",
   "metadata": {},
   "outputs": [
    {
     "data": {
      "text/plain": [
       "40"
      ]
     },
     "execution_count": 9,
     "metadata": {},
     "output_type": "execute_result"
    }
   ],
   "source": [
    "range"
   ]
  },
  {
   "cell_type": "code",
   "execution_count": 10,
   "id": "8c418a1a",
   "metadata": {},
   "outputs": [
    {
     "data": {
      "text/plain": [
       "200.0"
      ]
     },
     "execution_count": 10,
     "metadata": {},
     "output_type": "execute_result"
    }
   ],
   "source": [
    "variance"
   ]
  },
  {
   "cell_type": "code",
   "execution_count": 11,
   "id": "e325a0c3",
   "metadata": {},
   "outputs": [
    {
     "data": {
      "text/plain": [
       "14.142135623730951"
      ]
     },
     "execution_count": 11,
     "metadata": {},
     "output_type": "execute_result"
    }
   ],
   "source": [
    "std_dev"
   ]
  },
  {
   "cell_type": "code",
   "execution_count": null,
   "id": "6df30fb2",
   "metadata": {},
   "outputs": [],
   "source": [
    "Q6. What is a Venn diagram?"
   ]
  },
  {
   "cell_type": "code",
   "execution_count": null,
   "id": "ce53c130",
   "metadata": {},
   "outputs": [],
   "source": [
    "Ans:- A venn-diagram is a graphical representation of sets, using circles to show how they overlap or intersect."
   ]
  },
  {
   "cell_type": "code",
   "execution_count": null,
   "id": "3cb7a38f",
   "metadata": {},
   "outputs": [],
   "source": [
    "Q7. For the two given sets A = (2,3,4,5,6,7) & B = (0,2,6,8,10). Find:\n",
    "(i) A intersection B\n",
    "(ii) A ⋃ B"
   ]
  },
  {
   "cell_type": "code",
   "execution_count": 15,
   "id": "bc83889a",
   "metadata": {},
   "outputs": [],
   "source": [
    "A = {2,3,4,5,6,7}\n",
    "B = {0,2,6,8,10}\n",
    "A_intersection_B = A.intersection(B)\n",
    "A_U_B = A.union(B)"
   ]
  },
  {
   "cell_type": "code",
   "execution_count": 16,
   "id": "06973cc7",
   "metadata": {},
   "outputs": [
    {
     "data": {
      "text/plain": [
       "{2, 6}"
      ]
     },
     "execution_count": 16,
     "metadata": {},
     "output_type": "execute_result"
    }
   ],
   "source": [
    "A_intersection_B"
   ]
  },
  {
   "cell_type": "code",
   "execution_count": 17,
   "id": "873f3ea7",
   "metadata": {},
   "outputs": [
    {
     "data": {
      "text/plain": [
       "{0, 2, 3, 4, 5, 6, 7, 8, 10}"
      ]
     },
     "execution_count": 17,
     "metadata": {},
     "output_type": "execute_result"
    }
   ],
   "source": [
    "A_U_B"
   ]
  },
  {
   "cell_type": "code",
   "execution_count": null,
   "id": "fd27149b",
   "metadata": {},
   "outputs": [],
   "source": [
    "Q8. What do you understand about skewness in data?"
   ]
  },
  {
   "cell_type": "code",
   "execution_count": null,
   "id": "714dd348",
   "metadata": {},
   "outputs": [],
   "source": [
    "Ans:- skewness is a statistical term  that describes the degree of asymmetry of a distribution of data.\n",
    "    A distribution is considered symmetric if it is evenly distributed around its mean, while it is considered\n",
    "    skewed if it is not symmetrical.\n",
    "    \n",
    "    If the distribution has a long tail on the right side, then it is said to  be positively skewed or right-skewed.\n",
    "    similarly, \n",
    "    if the tail is on the left side, then it is said to be negatively skewed or left-skewed.\n",
    "    \n",
    "     In a positively skewed distribution, the mean is greater than the median, while in a negatively skewed distribution, the median is greater than the mean.\n",
    "    "
   ]
  },
  {
   "cell_type": "code",
   "execution_count": null,
   "id": "0bc49800",
   "metadata": {},
   "outputs": [],
   "source": [
    "Q9. If a data is right skewed then what will be the position of median with respect to mean?"
   ]
  },
  {
   "cell_type": "code",
   "execution_count": null,
   "id": "e9bae6f1",
   "metadata": {},
   "outputs": [],
   "source": [
    "Ans:- if a data is right skewed , it means that the tail of the distribution is longer on the right-hand\n",
    "    side than on the left-hand side. In this case, the mean of the data will be greater than the median."
   ]
  },
  {
   "cell_type": "code",
   "execution_count": null,
   "id": "ea87349a",
   "metadata": {},
   "outputs": [],
   "source": [
    "Q10. Explain the difference between covariance and correlation. How are these measures used in\n",
    "statistical analysis?"
   ]
  },
  {
   "cell_type": "code",
   "execution_count": null,
   "id": "2f67f672",
   "metadata": {},
   "outputs": [],
   "source": [
    "Covariance and correlation  are two statistical measures that are used to describe the relationship between\n",
    "two variables.\n",
    "Covariance shows the two variables differ where correlation shows the  how two variables are related.\n",
    "\n",
    "Both  covariance and correlation are used in statistical analysis to understand the relationships between two variables.\n"
   ]
  },
  {
   "cell_type": "code",
   "execution_count": null,
   "id": "400e2799",
   "metadata": {},
   "outputs": [],
   "source": [
    "Q11. What is the formula for calculating the sample mean? Provide an example calculation for a\n",
    "dataset."
   ]
  },
  {
   "cell_type": "code",
   "execution_count": null,
   "id": "fa5962c4",
   "metadata": {},
   "outputs": [],
   "source": [
    "ans:- The formula for calculation the sample mean are:\n",
    "        mean = (sum of all values of the sample) / (number of the values in the sample)"
   ]
  },
  {
   "cell_type": "code",
   "execution_count": 18,
   "id": "52d091ae",
   "metadata": {},
   "outputs": [],
   "source": [
    "# exmaples to calcalute the mean\n",
    "data = [12, 45,23, 56]\n",
    "mean = sum(data)/4"
   ]
  },
  {
   "cell_type": "code",
   "execution_count": 19,
   "id": "a3829650",
   "metadata": {},
   "outputs": [
    {
     "data": {
      "text/plain": [
       "34.0"
      ]
     },
     "execution_count": 19,
     "metadata": {},
     "output_type": "execute_result"
    }
   ],
   "source": [
    "mean"
   ]
  },
  {
   "cell_type": "code",
   "execution_count": null,
   "id": "f7068fb0",
   "metadata": {},
   "outputs": [],
   "source": [
    "\n",
    "Q12. For a normal distribution data what is the relationship between its measure of central tendency?"
   ]
  },
  {
   "cell_type": "code",
   "execution_count": null,
   "id": "149754c3",
   "metadata": {},
   "outputs": [],
   "source": [
    "Ans: for a normal distribution data, the measures of central tendency - mean, median and mode - are equal.\n",
    "    It means that the value of the mean, median and mode of a normally distributed data set will be the same,\n",
    "    indicating that the data is symmetrical around its center.\n",
    "    "
   ]
  },
  {
   "cell_type": "code",
   "execution_count": null,
   "id": "13650ee3",
   "metadata": {},
   "outputs": [],
   "source": [
    "Q13. How is covariance different from correlation?"
   ]
  },
  {
   "cell_type": "code",
   "execution_count": null,
   "id": "b37583cf",
   "metadata": {},
   "outputs": [],
   "source": [
    "Ans: The main difference between covariance and correlation is that covariance measures the strength and \n",
    "    direction of the relationship between two variables , while correlation measures only thge strenght of\n",
    "    the relationship between two variables while also counting the difference in the scale of the variables.\n",
    "    Covariance can take on any value, whereas correlation is always between -1 and 1."
   ]
  },
  {
   "cell_type": "code",
   "execution_count": null,
   "id": "dddfbb92",
   "metadata": {},
   "outputs": [],
   "source": [
    "Q14. How do outliers affect measures of central tendency and dispersion? Provide an example."
   ]
  },
  {
   "cell_type": "code",
   "execution_count": null,
   "id": "2102ae67",
   "metadata": {},
   "outputs": [],
   "source": [
    "Ans:-  Outliers can have a significant impact on the measures of central tendency and dispersion.\n",
    "    Measures of central tendency such as the mean can be heavily influenced by extreme values, causing \n",
    "    them to be pulled in the direction of the outliers. Similarly, measures of dispersion such as the \n",
    "    range and standard deviation can be significantly affected by outliers, leading to an \n"
   ]
  }
 ],
 "metadata": {
  "kernelspec": {
   "display_name": "Python 3 (ipykernel)",
   "language": "python",
   "name": "python3"
  },
  "language_info": {
   "codemirror_mode": {
    "name": "ipython",
    "version": 3
   },
   "file_extension": ".py",
   "mimetype": "text/x-python",
   "name": "python",
   "nbconvert_exporter": "python",
   "pygments_lexer": "ipython3",
   "version": "3.10.4"
  }
 },
 "nbformat": 4,
 "nbformat_minor": 5
}
