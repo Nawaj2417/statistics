{
 "cells": [
  {
   "cell_type": "code",
   "execution_count": null,
   "id": "1f8ca2d1-536a-45b1-b7e4-9c2220257b27",
   "metadata": {},
   "outputs": [],
   "source": [
    "Q1: What is the difference between a t-test and a z-test? Provide an example scenario where you would\n",
    "use each type of test."
   ]
  },
  {
   "cell_type": "code",
   "execution_count": null,
   "id": "f17a127b-a1da-4e5f-975c-26768a9ba159",
   "metadata": {},
   "outputs": [],
   "source": [
    "Ans: The z-test is used when you have a large sample size and know the population standard deviation, while a t-test is more \n",
    "appropriate when the sample size is small or when the population standard deviation is unknown.\n",
    "\n",
    "An example scenario where you would use a z-test could be when you want to determine if the average height of males in a given\n",
    "population is significantly different from a known population mean height. If you have a large sample size, say n > 30, and you\n",
    "know the population standard deviation, you can use a z-test to test your hypothesis.\n",
    "\n",
    "On the other hand, if you have a small sample size, say n < 30, and you do not know the population standard deviation, \n",
    "you could use a t-test to compare the means of two samples. For example, you could use a t-test to compare the average test \n",
    "scores of two groups of students to see if there is a statistically significant difference between them."
   ]
  },
  {
   "cell_type": "code",
   "execution_count": null,
   "id": "e17072d7-adf1-4cd3-b20a-7e67ff816c6e",
   "metadata": {},
   "outputs": [],
   "source": [
    "Q2: Differentiate between one-tailed and two-tailed tests."
   ]
  },
  {
   "cell_type": "code",
   "execution_count": null,
   "id": "797f9c57-ed93-4ed1-946a-c833daf3dfe8",
   "metadata": {},
   "outputs": [],
   "source": [
    "Ans: A one-tailed test is a hypothesis test where the alternative hypothesis is directional, means it predicts the direction of the \n",
    "effect, whether it is positive or negative.It has a higher power to detect a significant effect in one direction but may miss a \n",
    "significant effect in the opposite direction.\n",
    "\n",
    "similarly, a two- tailed test is a hypothesis test where the alternative hypothesis is non-directional, means it doesnot predict\n",
    "the direction of the effect, only that there is a difference.A two-tailed test has a lower power to detect a significant effect \n",
    "than a one-tailed test, but it is more conservative and can detect significant effects in either direction."
   ]
  },
  {
   "cell_type": "code",
   "execution_count": null,
   "id": "3564096b-0e1a-4289-bf83-6cd94ca58aab",
   "metadata": {},
   "outputs": [],
   "source": [
    "Q3: Explain the concept of Type 1 and Type 2 errors in hypothesis testing. Provide an example scenario for\n",
    "each type of error."
   ]
  },
  {
   "cell_type": "code",
   "execution_count": null,
   "id": "7e75f61f-d12b-4b2d-9e26-6188a3955cc4",
   "metadata": {},
   "outputs": [],
   "source": [
    "Ans: A type-1 error also known as false positive , occurs when the null hypothesis is rejected, even though it is actually true.\n",
    "for examples:\n",
    "Suppose a new drug is being tested to see if it cures a particular disease. The null hypothesis is that the drug has no\n",
    "effect, while the alternative hypothesis is that the drug is effective. A Type 1 error occurs when we reject the null hypothesis\n",
    "and conclude that the drug is effective, even though it has no actual effect. This could lead to patients being prescribed an \n",
    "ineffective drug, with potentially harmful side effects, wasting resources, and potentially delaying the discovery of an actual\n",
    "effective treatment.  \n",
    "\n",
    "\n",
    "similarly, A Type 2 error, also known as a false negative, occurs when the null hypothesis is not rejected, even though it\n",
    "is actually false. In other words, a Type 2 error occurs when we fail to detect a significant effect or difference when there \n",
    "is one. The probability of making a Type 2 error is denoted by β.\n",
    "\n",
    "examples:\n",
    "    Suppose a person is accused of a crime and is innocent. The null hypothesis is that the person is innocent, while the \n",
    "    alternative hypothesis is that the person is guilty. A Type 2 error occurs when we fail to reject the null hypothesis and \n",
    "    conclude that the person is innocent, even though they are actually guilty. This could result in an innocent person being \n",
    "    wrongly convicted, potentially leading to severe consequences such as imprisonment, financial loss, and damage to reputation."
   ]
  },
  {
   "cell_type": "code",
   "execution_count": null,
   "id": "d598251a-d58f-44de-bc80-829455806793",
   "metadata": {},
   "outputs": [],
   "source": [
    "Q4: Explain Bayes's theorem with an example."
   ]
  },
  {
   "cell_type": "code",
   "execution_count": null,
   "id": "4c40d5a4-b0c7-4abc-967e-e72bc5c75caa",
   "metadata": {},
   "outputs": [],
   "source": [
    "Ans: Baye's theorem is a mathematical formula that describes the probability of an event based on prior knowldege or evidence.\n",
    "The basic form of Bayes's theorem is:\n",
    "\n",
    "P(A|B) = P(B|A) * P(A) / P(B)\n",
    "\n",
    "examples:\n",
    "    Suppose a hospital has a new test to detect a rare disease, which affects only 1 in 10,000 people. The test has a 99%\n",
    "    accuracy rate, meaning that it correctly identifies 99% of people who have the disease, but it also gives false positives \n",
    "    for 1% of healthy people. If a person tests positive, what is the probability that they actually have the disease?\n",
    "\n",
    "Let's use Bayes's theorem to answer this question. First, we need to define the events A and B:\n",
    "\n",
    "    A: The person has the disease.\n",
    "    B: The person tests positive for the disease.\n",
    "\n",
    "We also know the following probabilities:\n",
    "\n",
    "    P(A) = 0.0001 (1 in 10,000 people have the disease)\n",
    "    P(B|A) = 0.99 (the test correctly identifies 99% of people with the disease)\n",
    "    P(B|not A) = 0.01 (the test gives a false positive for 1% of healthy people)\n",
    "\n",
    "Using these probabilities, we can calculate the probability that a person who tests positive actually has the disease:\n",
    "\n",
    "P(A|B) = P(B|A) * P(A) / P(B)\n",
    "P(A|B) = 0.99 * 0.0001 / ((0.99 * 0.0001) + (0.01 * 0.9999))\n",
    "P(A|B) = 0.0098\n",
    "\n",
    "Therefore, if a person tests positive for the disease, the probability that they actually have the disease is only 0.98%.\n",
    "This is because the test has a relatively high false positive rate, and the disease is very rare.\n"
   ]
  },
  {
   "cell_type": "code",
   "execution_count": null,
   "id": "3e76cde0-699c-46a3-a259-6d71d31ff557",
   "metadata": {},
   "outputs": [],
   "source": [
    "Q5: What is a confidence interval? How to calculate the confidence interval, explain with an example."
   ]
  },
  {
   "cell_type": "code",
   "execution_count": null,
   "id": "16e01035-646d-4ff6-bd27-1846875a7875",
   "metadata": {},
   "outputs": [],
   "source": [
    "Ans: A condifidence interval is a range of values that is likely to contain the true value of popn parameter, such as the mean or\n",
    "standard deviation, based on a sample from that population.\n",
    "\n",
    "The formula to calculate the confidence interval are:\n",
    "    C.I = sample mean - (critical value* standard error)\n",
    "    where standard error,\n",
    "    S.E = standard deviation / sqrt(n)"
   ]
  },
  {
   "cell_type": "code",
   "execution_count": null,
   "id": "e6049049-af36-4b70-a143-1f8cd665c230",
   "metadata": {},
   "outputs": [],
   "source": [
    "Q6. Use Bayes' Theorem to calculate the probability of an event occurring given prior knowledge of the\n",
    "event's probability and new evidence. Provide a sample problem and solution."
   ]
  },
  {
   "cell_type": "code",
   "execution_count": null,
   "id": "f95c8d85-eb92-4740-a720-deeea0090860",
   "metadata": {},
   "outputs": [],
   "source": [
    "Ans: Bayes theorem is a mathematical formula that is used to calculate the conditional probability of an event given prior knowledge\n",
    "and new evidence.\n",
    "The formula is :\n",
    "    P(A|B) = P(B|A)*P(A)/P(B)\n",
    "    "
   ]
  },
  {
   "cell_type": "code",
   "execution_count": null,
   "id": "bf402169-dcf5-4a89-b497-f1a25ba897df",
   "metadata": {},
   "outputs": [],
   "source": [
    "Q7. Calculate the 95% confidence interval for a sample of data with a mean of 50 and a standard deviation\n",
    "of 5. Interpret the results."
   ]
  },
  {
   "cell_type": "code",
   "execution_count": 2,
   "id": "f0dcc216-fabf-4fc0-a53e-4ec3832de019",
   "metadata": {},
   "outputs": [
    {
     "name": "stdout",
     "output_type": "stream",
     "text": [
      "95% confidence interval: (49.02001800772997, 50.97998199227003)\n"
     ]
    }
   ],
   "source": [
    "import scipy.stats as stats\n",
    "mean = 50\n",
    "std_dev = 5\n",
    "n = 100\n",
    "std_error = std_dev / (n ** 0.5)\n",
    "conf_interval = stats.norm.interval(0.95, loc=mean, scale=std_error)\n",
    "print(\"95% confidence interval:\", conf_interval)"
   ]
  },
  {
   "cell_type": "code",
   "execution_count": null,
   "id": "10c48168-d621-4b3a-8c9c-f8231ac59002",
   "metadata": {},
   "outputs": [],
   "source": [
    "Q9. Calculate the z-score for a data point with a value of 75, a population mean of 70, and a population\n",
    "standard deviation of 5. Interpret the results."
   ]
  },
  {
   "cell_type": "code",
   "execution_count": 5,
   "id": "0d490bb4-9439-4863-a4c0-81343c52e61e",
   "metadata": {},
   "outputs": [
    {
     "name": "stdout",
     "output_type": "stream",
     "text": [
      "The value of z score is  1.0\n"
     ]
    }
   ],
   "source": [
    "x = 75\n",
    "popn_mean = 70\n",
    "s_d = 5\n",
    "z = (x - popn_mean)/ s_d\n",
    "print(\"The value of z score is \", z)"
   ]
  },
  {
   "cell_type": "code",
   "execution_count": null,
   "id": "0ac01bad-d88c-4991-8180-998be6a13b9e",
   "metadata": {},
   "outputs": [],
   "source": []
  },
  {
   "cell_type": "code",
   "execution_count": null,
   "id": "f38e8c3c-f3a3-43dc-b835-c4110402904a",
   "metadata": {},
   "outputs": [],
   "source": []
  },
  {
   "cell_type": "code",
   "execution_count": null,
   "id": "f246e091-149b-4a4e-8c68-aeee3078be4b",
   "metadata": {},
   "outputs": [],
   "source": []
  }
 ],
 "metadata": {
  "kernelspec": {
   "display_name": "Python 3 (ipykernel)",
   "language": "python",
   "name": "python3"
  },
  "language_info": {
   "codemirror_mode": {
    "name": "ipython",
    "version": 3
   },
   "file_extension": ".py",
   "mimetype": "text/x-python",
   "name": "python",
   "nbconvert_exporter": "python",
   "pygments_lexer": "ipython3",
   "version": "3.10.6"
  }
 },
 "nbformat": 4,
 "nbformat_minor": 5
}
