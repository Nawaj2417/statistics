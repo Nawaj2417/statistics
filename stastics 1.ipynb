{
 "cells": [
  {
   "cell_type": "code",
   "execution_count": null,
   "id": "fca5def4",
   "metadata": {},
   "outputs": [],
   "source": [
    "Q1. what is statistics ?"
   ]
  },
  {
   "cell_type": "code",
   "execution_count": null,
   "id": "7ac2b225",
   "metadata": {},
   "outputs": [],
   "source": [
    "Ans:- Statistics is a branch of mathematics that deals with the collection, analysis, interpretation, presentation,\n",
    "     and organization of data. It involves the use of various techniques and methods to collect and analyze\n",
    "        data, and to make inferences or conclusions about a population based on a sample."
   ]
  },
  {
   "cell_type": "code",
   "execution_count": null,
   "id": "393b0a1a",
   "metadata": {},
   "outputs": [],
   "source": [
    "Q2. Define the different types of statistics and give an example of when each type might be used."
   ]
  },
  {
   "cell_type": "code",
   "execution_count": null,
   "id": "efac9ca3",
   "metadata": {},
   "outputs": [],
   "source": [
    "Ans:- The different types of statistics are : Descriptive and inferential statistics\n",
    "      1. Descriptive statistics:\n",
    "           This type of statistics involves the collection, organization, and presentation of data in \n",
    "            a meaningful way. it describes the characteristics of a dataset such as central tendency, variability,\n",
    "            and distribution.\n",
    "            examples are: median , mode, standard deviation, and range. it is used to summarize the results of \n",
    "                a survey or experiment, and to identity patters and trends in data.\n",
    "    2. Inferiential statistics:\n",
    "        This type of statistics involves using data from a sample to make inferences about a larger population.\n",
    "        It allows researchers to draw conclusions about a population based on sample, and to test hypothesis and  make predictions.\n",
    "        some of the major examples are : t-tests, ANOVA, regression analysis, and confidence intervals.\n",
    "            "
   ]
  },
  {
   "cell_type": "code",
   "execution_count": null,
   "id": "211ed28a",
   "metadata": {},
   "outputs": [],
   "source": [
    "Q3. What are the different types of data and how do they differ from each other? Provide an example of\n",
    "each type of data."
   ]
  },
  {
   "cell_type": "code",
   "execution_count": null,
   "id": "a0e0b367",
   "metadata": {},
   "outputs": [],
   "source": [
    "Ans:- There are generally four types of data . they are:- nominal , ordinal, interval and ratio.\n",
    "    1. Nominal data:- This type of data is used to label or name categories without any numerical value or order.\n",
    "    2. ordinal data: It is a type of categorical data that consists of discreate and ordered categories.\n",
    "        ex:- rankings(1st, 2nd, 3rd), education levels, satisfaction ratings\n",
    "    3. Interval data : It is a type of numerical data that consists of continuos numerical values.\n",
    "        ex:- temperature measured in celcius or Fahrenheit time.\n",
    "    4. Ratio data:  Ratio data is a type of numerical data that consists of continuous numerical values that have a true zero point\n",
    "        ex: height, weight, distance, and income.\n",
    "    5. discreate data:\n",
    "         Discrete data is a type of numerical data that consists of finite and countable values.\n",
    "            ex:  the number of students in a class, the number of cars in a parking lot, and the number of books on a shelf.\n",
    "    6. Continuous data: \n",
    "        : Continuous data is a type of numerical data that consists of an infinite number of possible values.\n",
    "            It can have any value within a range and can take on decimal or fractional values.\n",
    "            Examples of continuous data include height, weight, and time."
   ]
  },
  {
   "cell_type": "code",
   "execution_count": null,
   "id": "ab5a3491",
   "metadata": {},
   "outputs": [],
   "source": [
    "Q4. Categorise the following datasets with respect to quantitative and qualitative data types:\n",
    "(i) Grading in exam: A+, A, B+, B, C+, C, D, E\n",
    "(ii) Colour of mangoes: yellow, green, orange, red\n",
    "(iii) Height data of a class: [178.9, 179, 179.5, 176, 177.2, 178.3, 175.8,...]\n",
    "(iv) Number of mangoes exported by a farm: [500, 600, 478, 672, ...]"
   ]
  },
  {
   "cell_type": "code",
   "execution_count": null,
   "id": "02320bd5",
   "metadata": {},
   "outputs": [],
   "source": [
    "Ans:\n",
    "    (i) Grading in exam: A+, A, B+, B, C+, C, D, E : qualitative data\n",
    "                    \n",
    "(ii) Colour of mangoes: yellow, green, orange, red : qualitative data\n",
    "(iii) Height data of a class: [178.9, 179, 179.5, 176, 177.2, 178.3, 175.8,...]: quantative data\n",
    "(iv) Number of mangoes exported by a farm: [500, 600, 478, 672, ...] :  quantative data"
   ]
  },
  {
   "cell_type": "code",
   "execution_count": null,
   "id": "f9a98538",
   "metadata": {},
   "outputs": [],
   "source": [
    "Q5. Explain the concept of levels of measurement and give an example of a variable for each level.\n",
    "Ans: Nominal Level: it involves data that can only classified into categories or classes.\n",
    "        ex: gender, eye color, marital status.\n",
    "    2. ordinal data :\n",
    "        it can be ordered or ranked but different betweeen values cannot be measured.\n",
    "        ex: job position, customer satisfaaction etc\n",
    "    3. Interval level:\n",
    "        It can be ordered or rank and the difference between the values ca be measured.\n",
    "        ex: time, IQ scores etc.\n",
    "    4. Ratio Level:\n",
    "        It can be ordered or ranked, and the differences between the values can be measured and there is true zero point.\n",
    "        ex: weight, height etc."
   ]
  },
  {
   "cell_type": "code",
   "execution_count": null,
   "id": "e5ec94f7",
   "metadata": {},
   "outputs": [],
   "source": [
    "Q6. Why is it important to understand the level of measurement when analyzing data? Provide an\n",
    "example to illustrate your answer."
   ]
  },
  {
   "cell_type": "code",
   "execution_count": null,
   "id": "04fe1957",
   "metadata": {},
   "outputs": [],
   "source": [
    "Ans: it is important to understand the level of measuerement when analyzing data because it determines the \n",
    "    types of statistical analysis that can be applied to the data. Different statistical techniques are used \n",
    "    for different levels of measurement, and using the wrong analysis can lead to inaccurate results.\n",
    "    \n",
    "    \n",
    "For example, if we are analyzing data on customer satisfaction, we may ask customers to rate their experience on a scale of 1 to 10.\n",
    "If we treat this data as interval level data and calculate the mean, we might conclude that the average satisfaction rating is 6.5.\n",
    "However, this is not entirely accurate as the interval scale assumes that the difference between 1 and 2 is the same as the difference between 9 and 10, which may not be true for this rating scale.\n",
    "In this case, treating the data as ordinal level data and using non-parametric statistics like the median or mode may provide more accurate results."
   ]
  },
  {
   "cell_type": "code",
   "execution_count": null,
   "id": "356ef5e0",
   "metadata": {},
   "outputs": [],
   "source": [
    "Q7. How nominal data type is different from ordinal data type.\n",
    "\n",
    "Ans: The key difference between nominal and ordinal data is that ordinal data has a natural order, while nominal data does not. \n",
    "    For nominal data, we can only use frequency counts and percentages,\n",
    "    while for ordinal data, we can also use rank-based measures such as median and quartiles.\n",
    "    "
   ]
  },
  {
   "cell_type": "code",
   "execution_count": null,
   "id": "1930c2bc",
   "metadata": {},
   "outputs": [],
   "source": [
    "Q8. Which type of plot can be used to display data in terms of range?\n",
    "\n",
    "Ans : A box plot, also known as a box and whisker plot, is a type of plot that can be used to display \n",
    "    data in terms of range. A box plot displays the range of the data and shows the median , quartiles, and\n",
    "    outliers. it is useful for comparing distributions of different variables and for identifying skewness,\n",
    "    symmetry, and outliers in the data."
   ]
  },
  {
   "cell_type": "code",
   "execution_count": null,
   "id": "cbd1cd4e",
   "metadata": {},
   "outputs": [],
   "source": []
  },
  {
   "cell_type": "code",
   "execution_count": null,
   "id": "1f17912f",
   "metadata": {},
   "outputs": [],
   "source": [
    "Q9. Describe the difference between descriptive and inferential statistics. Give an example of each\n",
    "type of statistics and explain how they are used.\n",
    "\n",
    "\n",
    "Ans:  descriptive statistics are used to summarize and describe the key features of a dataset, \n",
    "    while inferential statistics are used to make inferences and predictions about a population based\n",
    "    on a sample of data.\n",
    "    Both types of statistics are important in data science and are used in different ways to \n",
    "    analyze and interpret data.\n",
    "    \n",
    "    An example of descriptive statistics would be calculating the mean and standard deviation of a\n",
    "    dataset of test scores for a class of students. This would provide a summary of the performance\n",
    "    of the students on the test and identify any patterns or trends in the data. Descriptive \n",
    "    statistics are also used in reporting the results of a study to provide a clear summary of \n",
    "    the data.\n",
    "    \n",
    "    An example of inferential statistics would be conducting a hypothesis test to determine\n",
    "    if there is a significant difference in test scores between two different classes of students.\n",
    "    This would involve comparing the means of the two samples and determining if the difference is \n",
    "    statistically significant or just due to chance. Inferential statistics are often used in\n",
    "    research studies to draw conclusions about the relationships between different variables and\n",
    "    to make predictions about the population."
   ]
  },
  {
   "cell_type": "code",
   "execution_count": null,
   "id": "e02bdaac",
   "metadata": {},
   "outputs": [],
   "source": [
    "Q10. What are some common measures of central tendency and variability used in statistics? Explain\n",
    "how each measure can be used to describe a dataset.\n",
    "\n",
    "Ans: measures of central tendency and variability are two types of descriptive statistics that are \n",
    "    commonly used in statistics to describe a dataset. Measures of central tendency describe the \n",
    "    central value of the dataset, while measures of variability describe the spread or dispersion of\n",
    "    the values in the dataset. By using these measures, we can describe the key features of the dataset \n",
    "    and identify any patterns or trends in the data."
   ]
  }
 ],
 "metadata": {
  "kernelspec": {
   "display_name": "Python 3 (ipykernel)",
   "language": "python",
   "name": "python3"
  },
  "language_info": {
   "codemirror_mode": {
    "name": "ipython",
    "version": 3
   },
   "file_extension": ".py",
   "mimetype": "text/x-python",
   "name": "python",
   "nbconvert_exporter": "python",
   "pygments_lexer": "ipython3",
   "version": "3.10.4"
  }
 },
 "nbformat": 4,
 "nbformat_minor": 5
}
