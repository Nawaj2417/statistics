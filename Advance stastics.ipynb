{
 "cells": [
  {
   "cell_type": "code",
   "execution_count": null,
   "id": "c7a0b570-bf84-4b2c-8c51-5abf9111c6b2",
   "metadata": {},
   "outputs": [],
   "source": [
    "Q1. What is the Probability density function?"
   ]
  },
  {
   "cell_type": "code",
   "execution_count": null,
   "id": "941a79bc-9a63-4e64-a62f-f9d78f2d2253",
   "metadata": {},
   "outputs": [],
   "source": [
    "Ans:- Probability density function is a statistical expression that defines a probability distribution\n",
    "    for a discrete random variable as opposed to a continuous random variable."
   ]
  },
  {
   "cell_type": "code",
   "execution_count": null,
   "id": "9419ccb2-c881-4511-9553-3bc767050bef",
   "metadata": {},
   "outputs": [],
   "source": [
    "Q2. What are the types of Probability distribution?"
   ]
  },
  {
   "cell_type": "code",
   "execution_count": null,
   "id": "d41c4b2c-2481-4f72-bdcd-33de2807f687",
   "metadata": {},
   "outputs": [],
   "source": [
    "Ans:- There are two types of probability distribution :\n",
    "        1. Discreate probability function\n",
    "        2. continuous probability function."
   ]
  },
  {
   "cell_type": "code",
   "execution_count": null,
   "id": "4547d910-9fc1-4409-a4c6-c5954d7d2783",
   "metadata": {},
   "outputs": [],
   "source": [
    "Q3. Write a Python function to calculate the probability density function of a normal distribution with\n",
    "given mean and standard deviation at a given point."
   ]
  },
  {
   "cell_type": "code",
   "execution_count": 1,
   "id": "5bb31158-d421-4ce2-b7b1-d706dfbbc66c",
   "metadata": {},
   "outputs": [],
   "source": [
    "import math\n",
    "def normal_pdf(x, mean, std_dev):\n",
    "    coeff = 1/ (std_dev * math.sqrt(2*math.pi))\n",
    "    exponent = 1/2 * ((x - mean) / std_dev) ** 2\n",
    "    pdf = coeff * math.exp(exponent)\n",
    "    return pdf"
   ]
  },
  {
   "cell_type": "code",
   "execution_count": 2,
   "id": "b113eada-fd98-4240-a97b-179b59a3ddec",
   "metadata": {},
   "outputs": [
    {
     "data": {
      "text/plain": [
       "2.947806890121508"
      ]
     },
     "execution_count": 2,
     "metadata": {},
     "output_type": "execute_result"
    }
   ],
   "source": [
    "normal_pdf(2,0,1)"
   ]
  },
  {
   "cell_type": "code",
   "execution_count": null,
   "id": "a2a1b3e2-2ffa-4723-b375-10f911a958b0",
   "metadata": {},
   "outputs": [],
   "source": [
    "Q4. What are the properties of Binomial distribution? Give two examples of events where binomial\n",
    "distribution can be applied."
   ]
  },
  {
   "cell_type": "code",
   "execution_count": null,
   "id": "3390a1ab-c8f5-4422-b150-aff485816edb",
   "metadata": {},
   "outputs": [],
   "source": [
    "Ans:- The properties of Binomial distribution are:-\n",
    "        1. The number of trials is fixed.\n",
    "        2. Each trial is independent.\n",
    "        3. The probability of success is constant for each trial.\n",
    "        4. the probability of failure is constant for each trial.\n",
    "        5. the random variable of interest is the number of successes.\n",
    "        \n",
    "        Any two examples of events where binomial distribution can be applied are flipping coin and medical treatment success rate."
   ]
  },
  {
   "cell_type": "code",
   "execution_count": null,
   "id": "32797f57-be46-4122-8f16-b7a41cf0c994",
   "metadata": {},
   "outputs": [],
   "source": [
    "Q5. Generate a random sample of size 1000 from a binomial distribution with probability of success 0.4\n",
    "and plot a histogram of the results using matplotlib."
   ]
  },
  {
   "cell_type": "code",
   "execution_count": 3,
   "id": "43084b0b-c0f8-4c48-aa5b-42f28e189c7c",
   "metadata": {},
   "outputs": [
    {
     "data": {
      "image/png": "[encoded data removed]",
      "text/plain": [
       "<Figure size 640x480 with 1 Axes>"
      ]
     },
     "metadata": {},
     "output_type": "display_data"
    }
   ],
   "source": [
    "import numpy as np\n",
    "import matplotlib.pyplot as plt\n",
    "\n",
    "n = 1000\n",
    "p = 0.4\n",
    "\n",
    "sample = np.random.binomial(n, p, size=1000)\n",
    "plt.hist(sample, bins=30, density = True, alpha = 0.5, color = 'blue')\n",
    "plt.xlabel(\"Number of success\")\n",
    "plt.ylabel(\"Frequency\")\n",
    "plt.title(\"binomia distribution\")\n",
    "plt.show()"
   ]
  },
  {
   "cell_type": "code",
   "execution_count": null,
   "id": "71ed6d09-1745-4df6-82e9-236c5fd2a503",
   "metadata": {},
   "outputs": [],
   "source": [
    "Q6. Write a Python function to calculate the cumulative distribution function of a Poisson distribution\n",
    "with given mean at a given point."
   ]
  },
  {
   "cell_type": "code",
   "execution_count": 4,
   "id": "fcab22a3-cdb4-4cb4-9f50-3f5648160613",
   "metadata": {},
   "outputs": [],
   "source": [
    "import math\n",
    "def poisson_cdf(mean, point):\n",
    "    cdf = 0.0\n",
    "    for i in range(point +1):\n",
    "        cdf += math.pow(mean, i) * math.exp(-mean) / math.factorial(i)\n",
    "    return cdf\n",
    "        "
   ]
  },
  {
   "cell_type": "code",
   "execution_count": 5,
   "id": "cc442406-98d1-4eb0-ab5c-dfd56859edba",
   "metadata": {},
   "outputs": [
    {
     "data": {
      "text/plain": [
       "0.7575761331330659"
      ]
     },
     "execution_count": 5,
     "metadata": {},
     "output_type": "execute_result"
    }
   ],
   "source": [
    "poisson_cdf(2.5, 3)"
   ]
  },
  {
   "cell_type": "code",
   "execution_count": null,
   "id": "68e75ddf-03a0-44f1-831b-528def3aa645",
   "metadata": {},
   "outputs": [],
   "source": [
    "Q7. How Binomial distribution different from Poisson distribution?"
   ]
  },
  {
   "cell_type": "code",
   "execution_count": null,
   "id": "e4986395-38eb-447c-9508-e3809e04fc1d",
   "metadata": {},
   "outputs": [],
   "source": [
    "Ans:- The binomial distribution is used to model the number of successes in a fixed number of independent trials with the same \n",
    "probability of success, while the poisson distribution is used to model the number of rare events occuring in a fixed interval of \n",
    "time or space."
   ]
  },
  {
   "cell_type": "code",
   "execution_count": null,
   "id": "7770ea57-daef-49c7-8d9d-162b3d1d4da7",
   "metadata": {},
   "outputs": [],
   "source": [
    "Q8. Generate a random sample of size 1000 from a Poisson distribution with mean 5 and calculate the\n",
    "sample mean and variance."
   ]
  },
  {
   "cell_type": "code",
   "execution_count": 6,
   "id": "68929d02-ac36-435a-beb4-8a57c477c9c7",
   "metadata": {},
   "outputs": [],
   "source": [
    "import numpy as np\n",
    "n = 1000\n",
    "mean = 5\n",
    "sample = np.random.poisson(mean, n)\n",
    "sample_mean = np.mean(sample)\n",
    "sample_var = np.var(sample)\n"
   ]
  },
  {
   "cell_type": "code",
   "execution_count": 7,
   "id": "9a82bbd5-aef2-4eda-ab34-e449b79cd03c",
   "metadata": {},
   "outputs": [
    {
     "data": {
      "text/plain": [
       "5.131"
      ]
     },
     "execution_count": 7,
     "metadata": {},
     "output_type": "execute_result"
    }
   ],
   "source": [
    "sample_mean"
   ]
  },
  {
   "cell_type": "code",
   "execution_count": 8,
   "id": "1f7889eb-8d37-41cb-a2b8-c1a508eb6a72",
   "metadata": {},
   "outputs": [
    {
     "data": {
      "text/plain": [
       "5.297839000000001"
      ]
     },
     "execution_count": 8,
     "metadata": {},
     "output_type": "execute_result"
    }
   ],
   "source": [
    "sample_var"
   ]
  },
  {
   "cell_type": "code",
   "execution_count": null,
   "id": "46438f03-8cba-4171-9ab9-6a65b709ddbb",
   "metadata": {},
   "outputs": [],
   "source": [
    "Q9. How mean and variance are related in Binomial distribution and Poisson distribution?"
   ]
  },
  {
   "cell_type": "code",
   "execution_count": null,
   "id": "86e74040-0d6b-4d8b-939d-619dfae7934b",
   "metadata": {},
   "outputs": [],
   "source": [
    "Ans: On both binomial and poisson distribution , the mean and variance are directly proportional to each other. As the mean increases, \n",
    "the variance also increases. This relationship between the mean and variance is important in understanding the shape and spread\n",
    "of these distributions, as well as in statistical inference and hypothesis testing."
   ]
  },
  {
   "cell_type": "code",
   "execution_count": null,
   "id": "2d4226de-8749-4908-94f5-c6f22cd9ab6a",
   "metadata": {},
   "outputs": [],
   "source": [
    "Q10. In normal distribution with respect to mean position, where does the least frequent data appear?"
   ]
  },
  {
   "cell_type": "code",
   "execution_count": null,
   "id": "b23ec73b-cade-45e9-8164-533319eca513",
   "metadata": {},
   "outputs": [],
   "source": [
    "In normal distribution , the least frequent data appears in the tails of the distribution, which are the regions that are farther away\n",
    "from the mean. Therefore, the probability of observing a data point that is very far from the mean is relatively low, and these\n",
    "extreme values are less frequent than the values that are closer to the mean."
   ]
  }
 ],
 "metadata": {
  "kernelspec": {
   "display_name": "Python 3 (ipykernel)",
   "language": "python",
   "name": "python3"
  },
  "language_info": {
   "codemirror_mode": {
    "name": "ipython",
    "version": 3
   },
   "file_extension": ".py",
   "mimetype": "text/x-python",
   "name": "python",
   "nbconvert_exporter": "python",
   "pygments_lexer": "ipython3",
   "version": "3.10.6"
  }
 },
 "nbformat": 4,
 "nbformat_minor": 5
}
